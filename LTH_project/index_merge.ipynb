{
  "cells": [
    {
      "cell_type": "raw",
      "metadata": {},
      "source": [
        "---\n",
        "title: 전통시장 점포 규모와 인구비율에 관한 분석\n",
        "author: 이태현\n",
        "date: '2024-07-17'\n",
        "categoty:\n",
        "  - project\n",
        "editor:\n",
        "  markdown:\n",
        "    wrap: sentence\n",
        "---"
      ],
      "id": "1afe319a"
    },
    {
      "cell_type": "markdown",
      "metadata": {},
      "source": [
        "이거 넣기 (11~41)ㅡㅡㅡㅡㅡㅡㅡㅡㅡㅡㅡㅡㅡㅡㅡㅡㅡㅡ\n",
        "# 분석 목적\n",
        "\n",
        "전통시장 홍보 목적 가설 : 만약 인구가 많아도 점포수가 적으면 홍보 필요성이 생긴다.\n",
        "여행 루트에 전통시장을 추가?\n",
        "\n",
        "2024년 4월에 보도된 [세계타임즈](https://m.thesegye.com/news/view/1065580969734925)에서 KB국민카드의 전통시장 카드 소비 데이터 분석을 볼 수 있습니다.\n",
        "전통시장의 연령별 매출 비중에서 40%는 60대 이상에서 발생되었습니다.\n",
        "50대 26%, 40대 17%, 30대 10%, 20대 7%로 연령대가 높을수록 매출 비중이 높게 나타났습니다.\n",
        "\n",
        "시장은 인구가 많은 곳에 분포되어 있는데, 전통시장 또한 단순히 인구가 많은 곳이 점포수가 많은지?\n",
        "주 고객층인 60대 이상이 많은 지역에 점포수가 많은지?\n",
        "알고 싶었다.\n",
        "\n",
        "2015년 기준으로 60대 이상 비율이 높은 행정구역에 점포수가 많이 분포되어 있는지 분석하기.\n",
        "이를 바탕으로 60대 비율이 적고, 인구가 많은 곳에 점포수가 많은지?\n",
        "60대 이상 비율이 높고, 인구가 적은 구역에 점포수가 많은지 비교하기.\n",
        "어느특징에 따라 전통시장이 많이 위치한지 분석해보았습니다.\n",
        "\n",
        "#### 나이 나누기\n",
        "\n",
        "`0~19세 = age_under_20`\n",
        "\n",
        "`20~59세 = age_2050`\n",
        "\n",
        "`60~100세 이상 = age_over_60`\n",
        "\n",
        "한국은 공공기관 및 일부 기업이 60세로 정년으로 두고 있기 때문에 위와 같이 노년의 기준을 60세 이상으로 정했습니다.\n",
        "\n",
        "(미국과 유럽은 60\\~65세 사이를 정년으로 두고 있습니다.)\n",
        "ㅡㅡㅡㅡㅡㅡㅡㅡㅡㅡㅡㅡㅡㅡㅡㅡㅡㅡㅡㅡㅡㅡㅡㅡㅡㅡㅡㅡㅡㅡㅡㅡ\n",
        "# 점포수 크기에 따른 연령층 확인하기\n",
        "oo"
      ],
      "id": "5f2192ed"
    },
    {
      "cell_type": "code",
      "metadata": {},
      "source": [
        "import pandas as pd\n",
        "import numpy as np"
      ],
      "id": "ec597ebd",
      "execution_count": null,
      "outputs": []
    },
    {
      "cell_type": "markdown",
      "metadata": {},
      "source": [
        "oo\n",
        "#### 2015년 12월 기준 인구조사 파일 불러오기"
      ],
      "id": "dec2c878"
    },
    {
      "cell_type": "code",
      "metadata": {},
      "source": [
        "pop = pd.read_excel('data/pop_2015.xlsx')"
      ],
      "id": "73d93d26",
      "execution_count": null,
      "outputs": []
    },
    {
      "cell_type": "markdown",
      "metadata": {},
      "source": [
        "oo\n",
        "#### 원본 숫자 안에 , 를 없애기 (문자열을 숫자열로 바꾸기)\n",
        "원본 데이터의 values를 보면 천 단위로 , 가 있다.\n",
        "때문에 문자열로 인식되어서 이를 지우고 숫자열로 바꾼다."
      ],
      "id": "02fef114"
    },
    {
      "cell_type": "code",
      "metadata": {},
      "source": [
        "subset = pop.iloc[1:18,1:14]\n",
        "for col in subset.columns:\n",
        "    subset[col] = subset[col].str.replace(',', '').astype(int)\n",
        "subset"
      ],
      "id": "478fab1a",
      "execution_count": null,
      "outputs": []
    },
    {
      "cell_type": "markdown",
      "metadata": {},
      "source": [
        "oo"
      ],
      "id": "624f131e"
    },
    {
      "cell_type": "code",
      "metadata": {},
      "source": [
        "pop.iloc[1:18,1:14] = subset\n",
        "pop = pop.iloc[0:18,0:14]\n",
        "pop"
      ],
      "id": "33e88c51",
      "execution_count": null,
      "outputs": []
    },
    {
      "cell_type": "markdown",
      "metadata": {},
      "source": [
        "이거 넣기\n",
        "#### 전국을 제외한 총 인구 그래프화"
      ],
      "id": "20e80569"
    },
    {
      "cell_type": "code",
      "metadata": {},
      "source": [
        "data_pop = pop.drop(0).groupby('행정기관') \\\n",
        "                      .agg(count = ('총 인구수','min'))\n",
        "data_pop = data_pop.sort_values('count',ascending = False)\n",
        "data_pop"
      ],
      "id": "c03ced94",
      "execution_count": null,
      "outputs": []
    },
    {
      "cell_type": "markdown",
      "metadata": {},
      "source": [
        "이거 넣기"
      ],
      "id": "a34cba5a"
    },
    {
      "cell_type": "code",
      "metadata": {},
      "source": [
        "import seaborn as sns\n",
        "import matplotlib.pyplot as plt\n",
        "\n",
        "plt.rcParams.update({'font.family' : 'Malgun Gothic'})\n",
        "\n",
        "plt.clf()\n",
        "sns.barplot(data = data_pop, y = '행정기관', x = 'count', hue = '행정기관')\n",
        "plt.show()"
      ],
      "id": "ad931a9c",
      "execution_count": null,
      "outputs": []
    },
    {
      "cell_type": "markdown",
      "metadata": {},
      "source": [
        "경기도와 서울은 수도권 특성상 면적대비 많은 인구가 몰려있다.\n",
        "그렇기에 전통시장의 갯수도 많을 수 밖에 없는 조건이므로 나중 분석에서 제외할 예정이다.\n",
        "\n",
        "\n",
        "oo(지역마다 총 인구 수는 확인하기)\n",
        "#### 각 지역마다 연령층 비율 계산하기"
      ],
      "id": "39ff1532"
    },
    {
      "cell_type": "code",
      "metadata": {},
      "source": [
        "pop_서울, pop_부산, pop_대구, pop_인천, pop_광주, pop_대전, pop_울산, pop_세종, \\\n",
        "pop_경기, pop_강원, pop_충북, pop_충남, pop_전북, pop_전남, pop_경북, pop_경남, pop_제주 = [\n",
        "    pop['총 인구수'][i] for i in range(1, 18)]\n",
        "\n",
        "서울_유소년_비율 = (pop.iloc[1,3:5].sum()) / pop_서울* 100\n",
        "부산_유소년_비율 = (pop.iloc[2,3:5].sum()) / pop_부산* 100\n",
        "대구_유소년_비율 = (pop.iloc[3,3:5].sum()) / pop_대구* 100\n",
        "인천_유소년_비율 = (pop.iloc[4,3:5].sum()) / pop_인천* 100\n",
        "광주_유소년_비율 = (pop.iloc[5,3:5].sum()) / pop_광주* 100\n",
        "대전_유소년_비율 = (pop.iloc[6,3:5].sum()) / pop_대전* 100\n",
        "울산_유소년_비율 = (pop.iloc[7,3:5].sum()) / pop_울산* 100\n",
        "세종_유소년_비율 = (pop.iloc[8,3:5].sum()) / pop_세종* 100\n",
        "경기_유소년_비율 = (pop.iloc[9,3:5].sum()) / pop_경기* 100\n",
        "강원_유소년_비율 = (pop.iloc[10,3:5].sum()) / pop_강원* 100\n",
        "충북_유소년_비율 = (pop.iloc[11,3:5].sum()) / pop_충북* 100\n",
        "충남_유소년_비율 = (pop.iloc[12,3:5].sum()) / pop_충남* 100\n",
        "전북_유소년_비율 = (pop.iloc[13,3:5].sum()) / pop_전북* 100\n",
        "전남_유소년_비율 = (pop.iloc[14,3:5].sum()) / pop_전남* 100\n",
        "경북_유소년_비율 = (pop.iloc[15,3:5].sum()) / pop_경북* 100\n",
        "경남_유소년_비율 = (pop.iloc[16,3:5].sum()) / pop_경남* 100\n",
        "제주_유소년_비율 = (pop.iloc[17,3:5].sum()) / pop_제주* 100\n",
        "\n",
        "\n",
        "서울_성인_비율 = (pop.iloc[1,5:9].sum()) / pop_서울 * 100\n",
        "부산_성인_비율 = (pop.iloc[2,5:9].sum()) / pop_부산* 100\n",
        "대구_성인_비율 = (pop.iloc[3,5:9].sum()) / pop_대구* 100\n",
        "인천_성인_비율 = (pop.iloc[4,5:9].sum()) / pop_인천* 100\n",
        "광주_성인_비율 = (pop.iloc[5,5:9].sum()) / pop_광주* 100\n",
        "대전_성인_비율 = (pop.iloc[6,5:9].sum()) / pop_대전* 100\n",
        "울산_성인_비율 = (pop.iloc[7,5:9].sum()) / pop_울산* 100\n",
        "세종_성인_비율 = (pop.iloc[8,5:9].sum()) / pop_세종* 100\n",
        "경기_성인_비율 = (pop.iloc[9,5:9].sum()) / pop_경기* 100\n",
        "강원_성인_비율 = (pop.iloc[10,5:9].sum()) / pop_강원* 100\n",
        "충북_성인_비율 = (pop.iloc[11,5:9].sum()) / pop_충북* 100\n",
        "충남_성인_비율 = (pop.iloc[12,5:9].sum()) / pop_충남* 100\n",
        "전북_성인_비율 = (pop.iloc[13,5:9].sum()) / pop_전북* 100\n",
        "전남_성인_비율 = (pop.iloc[14,5:9].sum()) / pop_전남* 100\n",
        "경북_성인_비율 = (pop.iloc[15,5:9].sum()) / pop_경북* 100\n",
        "경남_성인_비율 = (pop.iloc[16,5:9].sum()) / pop_경남* 100\n",
        "제주_성인_비율 = (pop.iloc[17,5:9].sum()) / pop_제주* 100\n",
        "\n",
        "\n",
        "서울_노인_비율 = (pop.iloc[1,9:14].sum()) / pop_서울 * 100\n",
        "부산_노인_비율 = (pop.iloc[2,9:14].sum()) / pop_부산* 100\n",
        "대구_노인_비율 = (pop.iloc[3,9:14].sum()) / pop_대구* 100\n",
        "인천_노인_비율 = (pop.iloc[4,9:14].sum()) / pop_인천* 100\n",
        "광주_노인_비율 = (pop.iloc[5,9:14].sum()) / pop_광주* 100\n",
        "대전_노인_비율 = (pop.iloc[6,9:14].sum()) / pop_대전* 100\n",
        "울산_노인_비율 = (pop.iloc[7,9:14].sum()) / pop_울산* 100\n",
        "세종_노인_비율 = (pop.iloc[8,9:14].sum()) / pop_세종* 100\n",
        "경기_노인_비율 = (pop.iloc[9,9:14].sum()) / pop_경기* 100\n",
        "강원_노인_비율 = (pop.iloc[10,9:14].sum()) / pop_강원* 100\n",
        "충북_노인_비율 = (pop.iloc[11,9:14].sum()) / pop_충북* 100\n",
        "충남_노인_비율 = (pop.iloc[12,9:14].sum()) / pop_충남* 100\n",
        "전북_노인_비율 = (pop.iloc[13,9:14].sum()) / pop_전북* 100\n",
        "전남_노인_비율 = (pop.iloc[14,9:14].sum()) / pop_전남* 100\n",
        "경북_노인_비율 = (pop.iloc[15,9:14].sum()) / pop_경북* 100\n",
        "경남_노인_비율 = (pop.iloc[16,9:14].sum()) / pop_경남* 100\n",
        "제주_노인_비율 = (pop.iloc[17,9:14].sum()) / pop_제주* 100"
      ],
      "id": "63b62109",
      "execution_count": null,
      "outputs": []
    },
    {
      "cell_type": "markdown",
      "metadata": {},
      "source": [
        "oo\n",
        "#### 인구 비율 DataFrame 만들기"
      ],
      "id": "296e0b6b"
    },
    {
      "cell_type": "code",
      "metadata": {},
      "source": [
        "pop_ratio = pd.DataFrame({\n",
        "  '서울'      : [서울_유소년_비율, 서울_성인_비율, 서울_노인_비율],\n",
        "  '부산'      : [부산_유소년_비율, 부산_성인_비율, 부산_노인_비율],\n",
        "  '대구'      : [대구_유소년_비율, 대구_성인_비율, 대구_노인_비율],\n",
        "  '인천'    : [인천_유소년_비율, 인천_성인_비율, 인천_노인_비율],\n",
        "  '광주'    : [광주_유소년_비율, 광주_성인_비율, 광주_노인_비율],\n",
        "  '대전'     : [대전_유소년_비율, 대전_성인_비율, 대전_노인_비율],\n",
        "  '울산'      : [울산_유소년_비율, 울산_성인_비율, 울산_노인_비율],\n",
        "  '세종'     : [세종_유소년_비율, 세종_성인_비율, 세종_노인_비율],\n",
        "  '경기도'   : [경기_유소년_비율, 경기_성인_비율, 경기_노인_비율],\n",
        "  '강원'    : [강원_유소년_비율, 강원_성인_비율, 강원_노인_비율],\n",
        "  '충청북도'  : [충북_유소년_비율, 충북_성인_비율, 충북_노인_비율],\n",
        "  '충청남도'  : [충남_유소년_비율, 충남_성인_비율, 충남_노인_비율],\n",
        "  '전라북도'    : [전북_유소년_비율, 전북_성인_비율, 전북_노인_비율],\n",
        "  '전라남도'    : [전남_유소년_비율, 전남_성인_비율, 전남_노인_비율],\n",
        "  '경상북도' : [경북_유소년_비율, 경북_성인_비율, 경북_노인_비율],\n",
        "  '경상남도' : [경남_유소년_비율, 경남_성인_비율, 경남_노인_비율],\n",
        "  '제주도'       : [제주_유소년_비율, 제주_성인_비율, 제주_노인_비율]\n",
        "  })\n",
        "\n",
        "pop_ratio.index = ['age_under_20','age_2050','age_over_60']\n",
        "pop_ratio = pop_ratio.transpose()\n"
      ],
      "id": "78b18f16",
      "execution_count": null,
      "outputs": []
    },
    {
      "cell_type": "markdown",
      "metadata": {},
      "source": [
        "oo"
      ],
      "id": "dd7082f6"
    },
    {
      "cell_type": "code",
      "metadata": {},
      "source": [
        "# 지역 칼럼 추가하기\n",
        "pop_ratio['region'] = ['서울특별시', '부산광역시', '대구광역시', '인천광역시', '광주광역시', '대전광역시', '울산광역시', '세종특별시', '경기도', '강원도', '충청북도', '충청남도', '전라북도', '전라남도', '경상북도', '경상남도', '제주도']\n",
        "\n",
        "pop_ratio.sort_values('age_over_60', ascending = False)"
      ],
      "id": "4c69b5b2",
      "execution_count": null,
      "outputs": []
    },
    {
      "cell_type": "markdown",
      "metadata": {},
      "source": [
        "# 전통시장 데이터 불러오기\n",
        "oo"
      ],
      "id": "1574a4be"
    },
    {
      "cell_type": "code",
      "metadata": {},
      "source": [
        "# 데이터 불러오기\n",
        "market = pd.read_excel(\"data/traditionalmarket.xlsx\")\n",
        "\n",
        "# 분석을 위한 복사본 만들기\n",
        "market2 = market.copy()"
      ],
      "id": "8a8d20ec",
      "execution_count": null,
      "outputs": []
    },
    {
      "cell_type": "markdown",
      "metadata": {},
      "source": [
        "oo"
      ],
      "id": "6b5b953f"
    },
    {
      "cell_type": "code",
      "metadata": {},
      "source": [
        "# 엑셀의 변수 한글을 영어로 rename\n",
        "market2 = market2.rename(columns = {\"시장명\"              : \"market_name\", \n",
        "                                    \"시장유형\"            : \"type\",\n",
        "                                    \"소재지도로명주소\"    : \"adress_road\",\n",
        "                                    \"시장개설주기\"        : \"open_period\",\n",
        "                                    \"소재지지번주소\"      : \"address_old\",\n",
        "                                    \"점포수\"              : \"store_count\",\n",
        "                                    \"사용가능상품권\"      : \"certificate\",\n",
        "                                    \"공중화장실 보유여부\" :\"public_toilet\",\n",
        "                                    \"주차장 보유여부\"     : \"parking_lot\",\n",
        "                                    \"개설년도\"            : \"year\",\n",
        "                                    \"데이터기준일자\"      : \"data_date\"})"
      ],
      "id": "b79af6b2",
      "execution_count": null,
      "outputs": []
    },
    {
      "cell_type": "markdown",
      "metadata": {},
      "source": [
        "oo"
      ],
      "id": "6dc8c98e"
    },
    {
      "cell_type": "code",
      "metadata": {},
      "source": [
        "# 데이터의 정보 확인하기\n",
        "market2.describe()"
      ],
      "id": "e93ca8a2",
      "execution_count": null,
      "outputs": []
    },
    {
      "cell_type": "markdown",
      "metadata": {},
      "source": [
        "oo"
      ],
      "id": "269cdc76"
    },
    {
      "cell_type": "code",
      "metadata": {},
      "source": [
        "# 점포수에 따른 규모 크기를 설명해주는 변수 만들기\n",
        "market2 = market2.assign(market_scale = np.where(market2[\"store_count\"] >= 134, \"large\", \n",
        "                                        np.where(market2[\"store_count\"] >= 50, \"medium\", \"small\")))\n",
        "\n",
        "# 편의시설의 유무에 따른 레벨링 하기\n",
        "market2['level'] = np.where((market2['public_toilet'] == 'Y') & (market2['parking_lot'] == 'Y'), 'high', \n",
        "                   np.where((market2['public_toilet'] == 'N') & (market2['public_toilet'] == 'N') , 'low', 'intermediate'))"
      ],
      "id": "90b0a4e7",
      "execution_count": null,
      "outputs": []
    },
    {
      "cell_type": "markdown",
      "metadata": {},
      "source": [
        "oo"
      ],
      "id": "2481d9e5"
    },
    {
      "cell_type": "code",
      "metadata": {},
      "source": [
        "# 확인 절차\n",
        "market2.head()"
      ],
      "id": "94c817fc",
      "execution_count": null,
      "outputs": []
    },
    {
      "cell_type": "markdown",
      "metadata": {},
      "source": [
        "oo"
      ],
      "id": "e848a5e8"
    },
    {
      "cell_type": "code",
      "metadata": {},
      "source": [
        "# 그래프 그리기\n",
        "import seaborn as sns\n",
        "import matplotlib.pyplot as plt\n",
        "\n",
        "# x축을 편의 시설 레벨\n",
        "plt.clf()\n",
        "sns.countplot(data = market2, x = 'level', hue = 'level')\n",
        "plt.show()"
      ],
      "id": "d1ab2142",
      "execution_count": null,
      "outputs": []
    },
    {
      "cell_type": "markdown",
      "metadata": {},
      "source": [
        "이거 넣기"
      ],
      "id": "1031d390"
    },
    {
      "cell_type": "code",
      "metadata": {},
      "source": [
        "# 그래프 그리기 위한 df 생성\n",
        "# 시장 유형와 규모 크기에 따른 그룹화 / 규모 크기 갯수 추가\n",
        "df = market2.groupby([\"type\", \"market_scale\"], as_index = False) \\\n",
        "            .agg(market_count = (\"market_scale\", \"count\"))\n",
        "df"
      ],
      "id": "890a2dd8",
      "execution_count": null,
      "outputs": []
    },
    {
      "cell_type": "markdown",
      "metadata": {},
      "source": [
        "이거 넣기"
      ],
      "id": "f15b899e"
    },
    {
      "cell_type": "code",
      "metadata": {},
      "source": [
        "# 규모 크기에 따른 내림차순\n",
        "df.sort_values('market_count', ascending = False)\n",
        "\n",
        "# 만든 df를 x축에 시장 유형, y축은 규모 크기에 따른 점포 갯수\n",
        "plt.clf()\n",
        "sns.barplot(data = df, y = 'type', x = 'market_count', hue = 'market_scale')\n",
        "plt.show()"
      ],
      "id": "0504c01f",
      "execution_count": null,
      "outputs": []
    },
    {
      "cell_type": "code",
      "metadata": {},
      "source": [
        "plt.clf()"
      ],
      "id": "75411811",
      "execution_count": null,
      "outputs": []
    },
    {
      "cell_type": "markdown",
      "metadata": {},
      "source": [
        "ㅡㅡㅡㅡㅡㅡㅡㅡㅡㅡㅡㅡㅡㅡㅡㅡㅡㅡㅡㅡㅡㅡㅡㅡㅡㅡㅡㅡㅡㅡㅡㅡㅡㅡㅡㅡㅡㅡ\n",
        "\n",
        "\n",
        "\n",
        "\n",
        "\n",
        "oo\n",
        "# 인구 데이터와 시장 데이터 합치기"
      ],
      "id": "e4fd8ea1"
    },
    {
      "cell_type": "code",
      "metadata": {},
      "source": [
        "market2['region'] = market2['adress_road'].str.split().str[0]\n",
        "\n",
        "market_pop = pd.merge(market2, pop_ratio, how = 'left', on = 'region')\n",
        "market_pop"
      ],
      "id": "70004df1",
      "execution_count": null,
      "outputs": []
    },
    {
      "cell_type": "markdown",
      "metadata": {},
      "source": [
        "# 60대 이상 비율의 계급 나누기\n"
      ],
      "id": "fffe07dd"
    },
    {
      "cell_type": "code",
      "metadata": {},
      "source": [
        "market_pop['age_over_60'].describe()"
      ],
      "id": "9f8e3d56",
      "execution_count": null,
      "outputs": []
    },
    {
      "cell_type": "markdown",
      "metadata": {},
      "source": [
        "중앙값 19.55% 보다 높은 지역을 60대 이상 비율이 많다고 정의\n",
        "\n",
        "# 시장 종류 갯수\n"
      ],
      "id": "f4f9fd58"
    },
    {
      "cell_type": "code",
      "metadata": {},
      "source": [
        "# 노인인구 평균 비교\n",
        "market_pop['under'] = np.where(market_pop['age_over_60'] < 19.55,1,0)\n",
        "market_pop['over'] = np.where(market_pop['age_over_60'] >= 19.55,1,0)\n",
        "market_pop.groupby(['region']) \\\n",
        "          .agg(노인인구평균이상 = ('over','sum'), 노인인구평균이하 = ('under','sum'))\n"
      ],
      "id": "5b09fa16",
      "execution_count": null,
      "outputs": []
    },
    {
      "cell_type": "markdown",
      "metadata": {},
      "source": [
        "시장 종류가 몇 개인지 알아보기 위해 지역기준으로 1행에서 노인인구 비율이 높으면 1, 2행에서도 노인인구 비율이 낮으면 1의 값을 주어 모두 더하는 방식으로 계산했다.\n"
      ],
      "id": "16e0b738"
    },
    {
      "cell_type": "code",
      "metadata": {},
      "source": [
        "market_pop['over'] = np.where(market_pop['age_over_60'] >= 19.55,1,1)\n",
        "market_pop.groupby(['region']) \\\n",
        "          .agg(시장종류갯수 = ('over','sum')) \\\n",
        "          .sort_values('시장종류갯수', ascending = False)"
      ],
      "id": "85e68640",
      "execution_count": null,
      "outputs": []
    },
    {
      "cell_type": "code",
      "metadata": {},
      "source": [
        "시장종류갯수 = market_pop.groupby(['region']) \\\n",
        "                         .agg(시장종류갯수 = ('over','sum')) \\\n",
        "                         .sort_values('시장종류갯수',ascending = False)\n",
        "\n",
        "plt.clf()\n",
        "sns.barplot(data = 시장종류갯수, y = 'region', x = '시장종류갯수', hue = '시장종류갯수')\n",
        "plt.show()"
      ],
      "id": "ec3bc66b",
      "execution_count": null,
      "outputs": []
    },
    {
      "cell_type": "markdown",
      "metadata": {},
      "source": [
        "각 지역의 점포수를 sum 해보기 -over 값을 up down으로 수정하기-\n"
      ],
      "id": "d61d9c17"
    },
    {
      "cell_type": "code",
      "metadata": {},
      "source": [
        "#중앙값보다 높고 낮음을 yes | no로 표시하기\n",
        "market_pop['over'] = np.where(market_pop['age_over_60'] >= 19.55,'Y','N')\n",
        "\n",
        "over_점포수 = market_pop.groupby(['region','over']) \\\n",
        "                        .agg(count = ('market_count','sum')) \\\n",
        "                        .sort_values('count', ascending = False)\n",
        "over_점포수"
      ],
      "id": "df2a0ebb",
      "execution_count": null,
      "outputs": []
    },
    {
      "cell_type": "code",
      "metadata": {},
      "source": [
        "#서울과 경기도의 인구 비율 고려하기\n",
        "(pop_서울 + pop_경기) / 51529338 * 100"
      ],
      "id": "d2dbecba",
      "execution_count": null,
      "outputs": []
    },
    {
      "cell_type": "markdown",
      "metadata": {},
      "source": [
        "2015년 서울과 경기도의 인구 비율은 43.75% 로 가장 많은 인구가 있다.\n",
        "인구가 많으면 자연스레 시장의 수도 많은 것은 부정할 수 없는 사실이다.\n",
        "\n",
        "그래서 이 두 지역을 제외한 나머지 결과를 보았습니다.\n"
      ],
      "id": "cbfd2971"
    },
    {
      "cell_type": "code",
      "metadata": {},
      "source": [
        "# 서울과 경기도를 제외한 인구 그래프\n",
        "\n",
        "plt.clf()\n",
        "sns.barplot(data = data_pop[2:], y = '행정기관', x = 'count', hue = '행정기관')\n",
        "plt.show()"
      ],
      "id": "81dee058",
      "execution_count": null,
      "outputs": []
    },
    {
      "cell_type": "code",
      "metadata": {},
      "source": [
        "# 인구 많은 지역 제외\n",
        "over_점포수_new = over_점포수.drop('서울특별시').drop('경기도')\n",
        "over_점포수_new"
      ],
      "id": "a2cc7ab1",
      "execution_count": null,
      "outputs": []
    },
    {
      "cell_type": "code",
      "metadata": {},
      "source": [
        "plt.clf()\n",
        "sns.barplot(data = over_점포수_new, y = 'region', x = 'count', hue = 'over', palette='Set1')\n",
        "plt.show()"
      ],
      "id": "4a786e47",
      "execution_count": null,
      "outputs": []
    },
    {
      "cell_type": "markdown",
      "metadata": {},
      "source": [
        "상위 5개 중 노인비율이 높은 3곳이 점포수가 많았으며, 노인비율이 낮은 대구, 인천이 4,5위를 하였습니다.\n",
        "\n",
        "충청도,전라도,강원도와 같은 노인비율이 높은 곳이 다음 순위를 기록하였습니다.\n",
        "제주도, 3개의 광역시, 세종특별시가 하위권을 기록하였습니다.\n"
      ],
      "id": "9541062f"
    },
    {
      "cell_type": "code",
      "metadata": {},
      "source": [
        "plt.clf()\n",
        "sns.barplot(data = data_pop[2:], y = '행정기관', x = 'count', hue = '행정기관')\n",
        "plt.show()\n",
        "\n",
        "plt.clf()\n",
        "sns.barplot(data = over_점포수_new, y = 'region', x = 'count', hue = 'over', palette='Set1')\n",
        "plt.show()"
      ],
      "id": "50d0aa0b",
      "execution_count": null,
      "outputs": []
    },
    {
      "cell_type": "markdown",
      "metadata": {},
      "source": [
        "지역 인구수 3위 : 인천광역시가 점포수에서는 5위\n",
        "\n",
        "지역 인구수 5위 : 대구광역시가 점포수에서는 4위\n",
        "\n",
        "를 기록하였습니다.\n",
        "\n",
        "인천은 인구가 많지만 노인인구비율이 적어 점포수에서 하락(???)했습니다.\n",
        "반대로 대구는 인천보다 인구수가 적지만 경상도의 중심에 있다는 정보를 고려하면 노인인구 비율이 높은 영향을 받아 점포수에서 순위 상승이 있는 것로 판단(????)\n",
        "\n",
        "인구가 많으면서 노인비율이 높은 부산광역시에서 점포수가 가장 많았습니다.\n",
        "그리고 인천과 대구 2개의 광역시가 4,5위를 기록했지만 노인인구비율이 높은 도 단위 행정구역이 모두 상단에 위치한다는 점을 알 수 있었습니다.\n",
        "\n",
        "기본적으로 점포수는 인구수의 영향을 받아 순위가 메겨지는 점은 당연한 사실입니다.\n",
        "하지만 노인인구비율도 높은 곳이 동시에 점포수가 많다는 점을 알 수 있습니다.\n",
        "\n",
        "# 점포갯수 / 노인인구\n"
      ],
      "id": "cf220755"
    },
    {
      "cell_type": "code",
      "metadata": {},
      "source": [
        "# 지역별 노인 인구\n",
        "서울_노인 = (pop.iloc[1,9:14].sum())\n",
        "부산_노인 = (pop.iloc[2,9:14].sum())\n",
        "대구_노인 = (pop.iloc[3,9:14].sum())\n",
        "인천_노인 = (pop.iloc[4,9:14].sum())\n",
        "광주_노인 = (pop.iloc[5,9:14].sum())\n",
        "대전_노인 = (pop.iloc[6,9:14].sum())\n",
        "울산_노인 = (pop.iloc[7,9:14].sum())\n",
        "세종_노인 = (pop.iloc[8,9:14].sum())\n",
        "경기_노인 = (pop.iloc[9,9:14].sum())\n",
        "강원_노인 = (pop.iloc[10,9:14].sum())\n",
        "충북_노인 = (pop.iloc[11,9:14].sum())\n",
        "충남_노인 = (pop.iloc[12,9:14].sum())\n",
        "전북_노인 = (pop.iloc[13,9:14].sum())\n",
        "전남_노인 = (pop.iloc[14,9:14].sum())\n",
        "경북_노인 = (pop.iloc[15,9:14].sum())\n",
        "경남_노인 = (pop.iloc[16,9:14].sum())\n",
        "제주_노인 = (pop.iloc[17,9:14].sum())\n",
        "\n",
        "지역별노인 = pd.DataFrame({\n",
        "    'region' : ['서울특별시', '부산광역시', '대구광역시', '인천광역시', '광주광역시',\n",
        "    '대전광역시', '울산광역시', '세종특별시', '경기도', '강원도', '충청북도',\n",
        "    '충청남도','전라북도','전라남도', '경상북도', '경상남도', '제주도'],\n",
        "    '노인인구수' : [서울_노인,부산_노인,대구_노인,인천_노인,광주_노인,대전_노인,울산_노인,\n",
        "                   세종_노인,경기_노인,강원_노인,충북_노인,충남_노인,전북_노인,전남_노인,\n",
        "                   경북_노인,경남_노인,제주_노인]\n",
        "                   })\n",
        "지역별노인 = 지역별노인.sort_values('노인인구수', ascending = False)\n",
        "지역별노인"
      ],
      "id": "5a0c8713",
      "execution_count": null,
      "outputs": []
    },
    {
      "cell_type": "code",
      "metadata": {},
      "source": [
        "# 시장데이터와 지역별노인 데이터 합치기\n",
        "market_pop_old = pd.merge(market_pop, 지역별노인, how = 'left', on = 'region')"
      ],
      "id": "2dee8267",
      "execution_count": null,
      "outputs": []
    },
    {
      "cell_type": "code",
      "metadata": {},
      "source": [
        "ratio_old = market_pop_old.groupby(['region','노인인구수'], as_index = False) \\\n",
        "                          .agg(count = ('market_count','sum')) \\\n",
        "                          .sort_values('count', ascending = False)\n",
        "ratio_old"
      ],
      "id": "76973e7b",
      "execution_count": null,
      "outputs": []
    },
    {
      "cell_type": "code",
      "metadata": {},
      "source": [
        "# 점포 수 / 노인인구 수\n",
        "ratio_old = ratio_old.assign(ratio = ratio_old['count'] / ratio_old['노인인구수'] * 100)\n",
        "ratio_old = ratio_old.sort_values('ratio',ascending = False)\n",
        "ratio_old"
      ],
      "id": "9ceb92c7",
      "execution_count": null,
      "outputs": []
    },
    {
      "cell_type": "code",
      "metadata": {},
      "source": [
        "plt.clf()\n",
        "sns.barplot(data = ratio_old, x = 'ratio', y = 'region', hue = 'region')\n",
        "plt.show()"
      ],
      "id": "b22923a7",
      "execution_count": null,
      "outputs": []
    }
  ],
  "metadata": {
    "kernelspec": {
      "name": "python3",
      "language": "python",
      "display_name": "Python 3 (ipykernel)"
    }
  },
  "nbformat": 4,
  "nbformat_minor": 5
}